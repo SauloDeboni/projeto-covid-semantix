{
 "cells": [
  {
   "cell_type": "markdown",
   "metadata": {},
   "source": [
    "# Projeto Semantix Covid-19"
   ]
  },
  {
   "cell_type": "markdown",
   "metadata": {},
   "source": [
    "Curso de Big Data Engineer<br/>\n",
    "Aluno: Saulo Deboni"
   ]
  },
  {
   "cell_type": "markdown",
   "metadata": {},
   "source": [
    "### 1. Enviar os dados para o HDFS\n",
    "O arquivo *docker-compose.yml* foi modificado para ler a pasta do projeto.<br/>\n",
    "Foi criada no HDFS a pasta */user/saulo/projeto-covid* e adicionados os arquivos pelo terminal."
   ]
  },
  {
   "cell_type": "code",
   "execution_count": 6,
   "metadata": {},
   "outputs": [
    {
     "name": "stdout",
     "output_type": "stream",
     "text": [
      "Found 4 items\r\n",
      "-rw-r--r--   3 root supergroup   62492959 2022-04-23 13:29 /user/saulo/projeto-covid/data/HIST_PAINEL_COVIDBR_2020_Parte1_06jul2021.csv\r\n",
      "-rw-r--r--   3 root supergroup   76520681 2022-04-23 13:29 /user/saulo/projeto-covid/data/HIST_PAINEL_COVIDBR_2020_Parte2_06jul2021.csv\r\n",
      "-rw-r--r--   3 root supergroup   91120916 2022-04-23 13:29 /user/saulo/projeto-covid/data/HIST_PAINEL_COVIDBR_2021_Parte1_06jul2021.csv\r\n",
      "-rw-r--r--   3 root supergroup    3046774 2022-04-23 13:29 /user/saulo/projeto-covid/data/HIST_PAINEL_COVIDBR_2021_Parte2_06jul2021.csv\r\n"
     ]
    }
   ],
   "source": [
    "!hdfs dfs -ls /user/saulo/projeto-covid/data/"
   ]
  },
  {
   "cell_type": "markdown",
   "metadata": {},
   "source": [
    "### 2. Otimizar os dados para Tabela Hive\n",
    "Foi criado o banco de dados *covid_hive* no HDSF para salvar a tabela otimizada.<br/>\n",
    "Antes foi necessário analisar e limpar o conteúdo da tabela para evitar erros."
   ]
  },
  {
   "cell_type": "code",
   "execution_count": 1,
   "metadata": {},
   "outputs": [],
   "source": [
    "hist_painel_covid = spark.read.option(\"sep\",\";\").option(\"header\",\"true\").csv(\"/user/saulo/projeto-covid/data/\")"
   ]
  },
  {
   "cell_type": "code",
   "execution_count": 2,
   "metadata": {},
   "outputs": [
    {
     "name": "stdout",
     "output_type": "stream",
     "text": [
      "+------+------+---------+----------+--------------+\n",
      "|regiao|estado|municipio|      data|casosAcumulado|\n",
      "+------+------+---------+----------+--------------+\n",
      "|Brasil|  null|     null|2021-01-01|       7700578|\n",
      "|Brasil|  null|     null|2021-01-02|       7716405|\n",
      "|Brasil|  null|     null|2021-01-03|       7733746|\n",
      "|Brasil|  null|     null|2021-01-04|       7753752|\n",
      "|Brasil|  null|     null|2021-01-05|       7810400|\n",
      "|Brasil|  null|     null|2021-01-06|       7873830|\n",
      "|Brasil|  null|     null|2021-01-07|       7961673|\n",
      "|Brasil|  null|     null|2021-01-08|       8013708|\n",
      "|Brasil|  null|     null|2021-01-09|       8075998|\n",
      "|Brasil|  null|     null|2021-01-10|       8105790|\n",
      "+------+------+---------+----------+--------------+\n",
      "only showing top 10 rows\n",
      "\n"
     ]
    }
   ],
   "source": [
    "# Mostrando apenas as primeiras colunas para facilitar a visualização\n",
    "hist_painel_covid.select(\"regiao\", \"estado\", \"municipio\", \"data\", \"casosAcumulado\").show(10)"
   ]
  },
  {
   "cell_type": "code",
   "execution_count": 34,
   "metadata": {},
   "outputs": [
    {
     "name": "stdout",
     "output_type": "stream",
     "text": [
      "root\n",
      " |-- regiao: string (nullable = true)\n",
      " |-- estado: string (nullable = true)\n",
      " |-- municipio: string (nullable = true)\n",
      " |-- coduf: string (nullable = true)\n",
      " |-- codmun: string (nullable = true)\n",
      " |-- codRegiaoSaude: string (nullable = true)\n",
      " |-- nomeRegiaoSaude: string (nullable = true)\n",
      " |-- data: string (nullable = true)\n",
      " |-- semanaEpi: string (nullable = true)\n",
      " |-- populacaoTCU2019: string (nullable = true)\n",
      " |-- casosAcumulado: string (nullable = true)\n",
      " |-- casosNovos: string (nullable = true)\n",
      " |-- obitosAcumulado: string (nullable = true)\n",
      " |-- obitosNovos: string (nullable = true)\n",
      " |-- Recuperadosnovos: string (nullable = true)\n",
      " |-- emAcompanhamentoNovos: string (nullable = true)\n",
      " |-- interior_metropolitana: string (nullable = true)\n",
      "\n"
     ]
    }
   ],
   "source": [
    "# Renomendo a coluna interior/metropolitana para remover a barra\n",
    "hist_painel_covid.withColumnRenamed(\"interior/metropolitana\",\"interior_metropolitana\").printSchema()"
   ]
  },
  {
   "cell_type": "markdown",
   "metadata": {},
   "source": [
    "**OBSERVAÇÃO:** Não foi possível fazer o particionamento por *municipio* por falta de memória do computador.<br/>\n",
    "Portanto, para poder seguir com o projeto, o particionamento foi feito com *estado*.\n",
    "\n",
    "Foi criada uma nova tabela *clean_painel_estado* excluindo os dados nulos de *estado*.<br/>\n",
    "A nova tabela foi salva no HDFS para ser otimizada no hive pelo terminal."
   ]
  },
  {
   "cell_type": "code",
   "execution_count": 3,
   "metadata": {},
   "outputs": [],
   "source": [
    "clean_painel_estado = hist_painel_covid.filter((hist_painel_covid.municipio.isNotNull()) & (hist_painel_covid.estado.isNotNull()))"
   ]
  },
  {
   "cell_type": "code",
   "execution_count": 4,
   "metadata": {},
   "outputs": [
    {
     "name": "stdout",
     "output_type": "stream",
     "text": [
      "+------+------+--------------------+----------+--------------+\n",
      "|regiao|estado|           municipio|      data|casosAcumulado|\n",
      "+------+------+--------------------+----------+--------------+\n",
      "| Norte|    RO|Alta Floresta D'O...|2021-01-01|          1291|\n",
      "| Norte|    RO|Alta Floresta D'O...|2021-01-02|          1307|\n",
      "| Norte|    RO|Alta Floresta D'O...|2021-01-03|          1326|\n",
      "| Norte|    RO|Alta Floresta D'O...|2021-01-04|          1333|\n",
      "| Norte|    RO|Alta Floresta D'O...|2021-01-05|          1342|\n",
      "| Norte|    RO|Alta Floresta D'O...|2021-01-06|          1375|\n",
      "| Norte|    RO|Alta Floresta D'O...|2021-01-07|          1392|\n",
      "| Norte|    RO|Alta Floresta D'O...|2021-01-08|          1420|\n",
      "| Norte|    RO|Alta Floresta D'O...|2021-01-09|          1468|\n",
      "| Norte|    RO|Alta Floresta D'O...|2021-01-10|          1485|\n",
      "+------+------+--------------------+----------+--------------+\n",
      "only showing top 10 rows\n",
      "\n"
     ]
    }
   ],
   "source": [
    "clean_painel_estado.select(\"regiao\", \"estado\", \"municipio\", \"data\", \"casosAcumulado\").show(10)"
   ]
  },
  {
   "cell_type": "code",
   "execution_count": 10,
   "metadata": {},
   "outputs": [],
   "source": [
    "clean_painel_estado.write.csv(\"/user/saulo/projeto-covid/data_estado\")"
   ]
  },
  {
   "cell_type": "markdown",
   "metadata": {},
   "source": [
    "A tabela *painel_estado_covid* foi criada no hive, particionada por *estado*."
   ]
  },
  {
   "cell_type": "code",
   "execution_count": 12,
   "metadata": {},
   "outputs": [
    {
     "name": "stdout",
     "output_type": "stream",
     "text": [
      "+------------+------+---------+----------+--------------+\n",
      "|      regiao|estado|municipio|      data|casosAcumulado|\n",
      "+------------+------+---------+----------+--------------+\n",
      "|Centro-Oeste|    MT| Acorizal|2021-01-01|           206|\n",
      "|Centro-Oeste|    MT| Acorizal|2021-01-02|           206|\n",
      "|Centro-Oeste|    MT| Acorizal|2021-01-03|           206|\n",
      "|Centro-Oeste|    MT| Acorizal|2021-01-04|           206|\n",
      "|Centro-Oeste|    MT| Acorizal|2021-01-05|           206|\n",
      "|Centro-Oeste|    MT| Acorizal|2021-01-06|           206|\n",
      "|Centro-Oeste|    MT| Acorizal|2021-01-07|           206|\n",
      "|Centro-Oeste|    MT| Acorizal|2021-01-08|           208|\n",
      "|Centro-Oeste|    MT| Acorizal|2021-01-09|           209|\n",
      "|Centro-Oeste|    MT| Acorizal|2021-01-10|           209|\n",
      "+------------+------+---------+----------+--------------+\n",
      "only showing top 10 rows\n",
      "\n"
     ]
    }
   ],
   "source": [
    "spark.catalog.setCurrentDatabase(\"covid_hive\")\n",
    "spark.sql(\"select regiao, estado, municipio, data, casosAcumulado from painel_covid_estado\").show(10)"
   ]
  },
  {
   "cell_type": "markdown",
   "metadata": {},
   "source": [
    "### 3. Criar três visualizações pelo Spark com os dados do HDFS\n",
    "Para criar as visualizações, foi criado um novo schema para dataframe original."
   ]
  },
  {
   "cell_type": "code",
   "execution_count": 1,
   "metadata": {},
   "outputs": [],
   "source": [
    "from pyspark.sql.types import *\n",
    "from pyspark.sql import functions as f\n",
    "\n",
    "header_lista = [\n",
    "StructField(\"regiao\", StringType()),\n",
    "StructField(\"estado\", StringType()),\n",
    "StructField(\"municipio\", StringType()),\n",
    "StructField(\"coduf\", StringType()),\n",
    "StructField(\"codmun\", StringType()),\n",
    "StructField(\"codRegiaoSaude\", StringType()),\n",
    "StructField(\"nomeRegiaoSaude\", StringType()),\n",
    "StructField(\"data\", DateType()),\n",
    "StructField(\"semanaEpi\", StringType()),\n",
    "StructField(\"populacaoTCU2019\", IntegerType()),\n",
    "StructField(\"casosAcumulado\", IntegerType()),\n",
    "StructField(\"casosNovos\", IntegerType()),\n",
    "StructField(\"obitosAcumulado\", IntegerType()),\n",
    "StructField(\"obitosNovos\", IntegerType()),\n",
    "StructField(\"Recuperadosnovos\", IntegerType()),\n",
    "StructField(\"emAcompanhamentoNovos\", IntegerType()),\n",
    "StructField(\"interior_metropolitana\", BooleanType())\n",
    "]\n",
    "\n",
    "header_schema = StructType(header_lista)\n",
    "painel_analise = spark.read.option(\"sep\",\";\").option(\"header\",\"true\").schema(header_schema).csv(\"/user/saulo/projeto-covid/data/\")"
   ]
  },
  {
   "cell_type": "code",
   "execution_count": 2,
   "metadata": {},
   "outputs": [],
   "source": [
    "# Removendo os dados nulos para estado e município\n",
    "painel_analise_clean = painel_analise.filter((painel_analise.municipio.isNotNull()) & (painel_analise.estado.isNotNull()))"
   ]
  },
  {
   "cell_type": "markdown",
   "metadata": {},
   "source": [
    "**3.1 Visualização 01:** Os estados com maior número de casos X Total de óbitos"
   ]
  },
  {
   "cell_type": "code",
   "execution_count": 41,
   "metadata": {},
   "outputs": [
    {
     "name": "stdout",
     "output_type": "stream",
     "text": [
      "+------+--------------+---------------+\n",
      "|estado|Total de Casos|Total de Óbitos|\n",
      "+------+--------------+---------------+\n",
      "|    SP|       3808286|         130389|\n",
      "|    MG|       1831932|          46820|\n",
      "|    PR|       1301721|          31518|\n",
      "|    RS|       1235914|          31867|\n",
      "|    BA|       1130748|          24164|\n",
      "|    SC|       1066484|          17146|\n",
      "|    RJ|        970268|          56192|\n",
      "|    CE|        884098|          22791|\n",
      "|    GO|        686433|          19485|\n",
      "|    PE|        561505|          17953|\n",
      "+------+--------------+---------------+\n",
      "only showing top 10 rows\n",
      "\n"
     ]
    }
   ],
   "source": [
    "casos_estado = painel_analise_clean.groupBy(\"estado\").agg(f.sum(\"casosNovos\").alias(\"Total de Casos\"),\\\n",
    "                                                          f.sum(\"obitosNovos\").alias(\"Total de Óbitos\"))\\\n",
    ".sort(f.desc(\"Total de Casos\"))\n",
    "casos_estado.show(10)"
   ]
  },
  {
   "cell_type": "markdown",
   "metadata": {},
   "source": [
    "**3.2 Visualização 02:** Cidades pequenas (até 50 mil habitantes) com maior número de óbitos"
   ]
  },
  {
   "cell_type": "code",
   "execution_count": 6,
   "metadata": {},
   "outputs": [
    {
     "name": "stdout",
     "output_type": "stream",
     "text": [
      "+--------------------+------+---------------+---------+\n",
      "|           municipio|Estado|Total de Óbitos|População|\n",
      "+--------------------+------+---------------+---------+\n",
      "|              Guaíra|    SP|            269|    40790|\n",
      "|             Dracena|    SP|            229|    46793|\n",
      "|       Guajará-Mirim|    RO|            223|    46174|\n",
      "|    Pontes e Lacerda|    MT|            220|    45436|\n",
      "|               Jales|    SP|            210|    49107|\n",
      "|São Gonçalo do Am...|    CE|            204|    48422|\n",
      "|             Iturama|    MG|            203|    39263|\n",
      "|Santa Helena de G...|    GO|            200|    38648|\n",
      "|      Novo Horizonte|    BA|            193|    41052|\n",
      "|Barra de São Fran...|    ES|            192|    44650|\n",
      "+--------------------+------+---------------+---------+\n",
      "only showing top 10 rows\n",
      "\n"
     ]
    }
   ],
   "source": [
    "cidades_50 = painel_analise_clean.filter(painel_analise_clean.populacaoTCU2019 < 50000)\n",
    "\n",
    "casos_cidades_50 = cidades_50.groupBy(\"municipio\").agg(f.first(\"estado\").alias(\"Estado\"),\\\n",
    "                                                       f.sum(\"obitosNovos\").alias(\"Total de Óbitos\"),\\\n",
    "                                                       f.max(\"populacaoTCU2019\").alias(\"População\"))\\\n",
    ".sort(f.desc(\"Total de Óbitos\"))\n",
    "casos_cidades_50.show(10)"
   ]
  },
  {
   "cell_type": "markdown",
   "metadata": {},
   "source": [
    "**3.3 Visualização 03:** Épocas do ano (mês-ano) com maior número de novos casos"
   ]
  },
  {
   "cell_type": "code",
   "execution_count": 18,
   "metadata": {},
   "outputs": [
    {
     "name": "stdout",
     "output_type": "stream",
     "text": [
      "+-------+--------------+-------------------------+\n",
      "|mes_ano|Total de Casos|Máximo de Casos em um Dia|\n",
      "+-------+--------------+-------------------------+\n",
      "|03-2021|       2208681|                    40170|\n",
      "|06-2021|       2008062|                    47815|\n",
      "|04-2021|       1908520|                     8646|\n",
      "|05-2021|       1884548|                    47101|\n",
      "|01-2021|       1521819|                     3632|\n",
      "|02-2021|       1342473|                     7592|\n",
      "|12-2020|       1334194|                    14338|\n",
      "|07-2020|       1254979|                     6800|\n",
      "|08-2020|       1239204|                     7063|\n",
      "|09-2020|        898596|                     3680|\n",
      "+-------+--------------+-------------------------+\n",
      "only showing top 10 rows\n",
      "\n"
     ]
    }
   ],
   "source": [
    "from pyspark.sql.functions import unix_timestamp, from_unixtime\n",
    "\n",
    "mes_ano = painel_analise_clean.withColumn(\"mes_ano\", from_unixtime(unix_timestamp\\\n",
    "                                                                   (f.col(\"data\"), \"yyy-MM-dd\"), \"MM-yyyy\"))\n",
    "\n",
    "casos_epocas = mes_ano.groupBy(\"mes_ano\").agg(f.sum(\"casosNovos\").alias(\"Total de Casos\"),\\\n",
    "                                              f.max(\"casosNovos\").alias(\"Máximo de Casos em um Dia\"))\\\n",
    ".sort(f.desc(\"Total de Casos\"))\n",
    "casos_epocas.show(10)"
   ]
  },
  {
   "cell_type": "markdown",
   "metadata": {},
   "source": [
    "### 7. Criar a visualização pelo Spark dos dados do HDFS\n",
    "Síntese de casos, óbitos, incidência e mortalidade"
   ]
  },
  {
   "cell_type": "code",
   "execution_count": 39,
   "metadata": {},
   "outputs": [
    {
     "name": "stdout",
     "output_type": "stream",
     "text": [
      "+------------+-------+------+---------------+----------------+----------+\n",
      "|      regiao|  Casos|Óbitos|Incidência/100k|Mortalidade/100k|      Data|\n",
      "+------------+-------+------+---------------+----------------+----------+\n",
      "|    Nordeste|4434293|107560|           7832|             190|2021-07-06|\n",
      "|         Sul|3604119| 80531|          12081|             270|2021-07-06|\n",
      "|     Sudeste|7129450|244771|           8103|             278|2021-07-06|\n",
      "|Centro-Oeste|1916619| 49207|          11784|             303|2021-07-06|\n",
      "|       Norte|1730197| 43830|           9404|             238|2021-07-06|\n",
      "+------------+-------+------+---------------+----------------+----------+\n",
      "\n"
     ]
    }
   ],
   "source": [
    "taxa_casos = (f.sum(\"casosNovos\")/f.sumDistinct(\"populacaoTCU2019\"))*100000\n",
    "taxa_mortes = (f.sum(\"obitosNovos\")/f.sumDistinct(\"populacaoTCU2019\"))*100000\n",
    "\n",
    "sintese = painel_analise_clean.groupBy(\"regiao\").agg(f.sum(\"casosNovos\").alias(\"Casos\"),\\\n",
    "                f.sum(\"obitosNovos\").alias(\"Óbitos\"),\\\n",
    "                f.regexp_replace(f.format_number(taxa_casos,0), \",\", \".\").alias(\"Incidência/100k\"),\\\n",
    "                f.format_number(taxa_mortes,0).alias(\"Mortalidade/100k\"),\\\n",
    "                f.last(\"data\").alias(\"Data\"))\n",
    "\n",
    "sintese.show()"
   ]
  }
 ],
 "metadata": {
  "kernelspec": {
   "display_name": "PySpark",
   "language": "python",
   "name": "pyspark"
  },
  "language_info": {
   "codemirror_mode": {
    "name": "ipython",
    "version": 3
   },
   "file_extension": ".py",
   "mimetype": "text/x-python",
   "name": "python",
   "nbconvert_exporter": "python",
   "pygments_lexer": "ipython3",
   "version": "3.6.10"
  }
 },
 "nbformat": 4,
 "nbformat_minor": 2
}
